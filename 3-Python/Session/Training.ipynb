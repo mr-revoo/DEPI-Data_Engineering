{
 "cells": [
  {
   "cell_type": "markdown",
   "metadata": {},
   "source": [
    "### Swapping two numbers"
   ]
  },
  {
   "cell_type": "code",
   "execution_count": 44,
   "metadata": {},
   "outputs": [
    {
     "name": "stdout",
     "output_type": "stream",
     "text": [
      "before : \n",
      " a = 10 , b = 20\n",
      "after : \n",
      " a = 20 ,  b = 10\n"
     ]
    }
   ],
   "source": [
    "a = 10 \n",
    "b = 20\n",
    "\n",
    "print(f\"before : \\n a = {a} , b = {b}\")\n",
    "\n",
    "temp = a\n",
    "a=b\n",
    "b=temp\n",
    "\n",
    "print(f\"after : \\n a = {a} ,  b = {b}\")"
   ]
  },
  {
   "cell_type": "markdown",
   "metadata": {},
   "source": [
    "### Fibbonacci Sequence"
   ]
  },
  {
   "cell_type": "code",
   "execution_count": 45,
   "metadata": {},
   "outputs": [
    {
     "name": "stdout",
     "output_type": "stream",
     "text": [
      "0 1 1 2 3 5 "
     ]
    }
   ],
   "source": [
    "def fibbonacci(order):\n",
    "    if(order == 0):\n",
    "        return 0\n",
    "    elif(order == 1 or order == 2):\n",
    "        return 1\n",
    "    return fibbonacci(order-1) + fibbonacci(order - 2)\n",
    "\n",
    "\n",
    "for i in range(6):\n",
    "    print(fibbonacci(i),end = \" \")"
   ]
  },
  {
   "cell_type": "markdown",
   "metadata": {},
   "source": [
    "### Finding Length of the list "
   ]
  },
  {
   "cell_type": "code",
   "execution_count": 46,
   "metadata": {},
   "outputs": [
    {
     "name": "stdout",
     "output_type": "stream",
     "text": [
      "direct Method : 7\n",
      "for loop method : 7\n"
     ]
    }
   ],
   "source": [
    "mylist=[1,2,3,4,5,6,7]\n",
    "print(f\"direct Method : {len(mylist)}\")\n",
    "\n",
    "length = 0\n",
    "\n",
    "for i in mylist:\n",
    "    length+=1\n",
    "\n",
    "print(f\"for loop method : {length}\")"
   ]
  },
  {
   "cell_type": "markdown",
   "metadata": {},
   "source": [
    "### Finding Sum of Elements on An list"
   ]
  },
  {
   "cell_type": "code",
   "execution_count": 47,
   "metadata": {},
   "outputs": [
    {
     "name": "stdout",
     "output_type": "stream",
     "text": [
      "Direct Sum method : 36\n",
      "For loop Method : 36 \n"
     ]
    }
   ],
   "source": [
    "myarr=[1,2,3,4,5,6,7,8]\n",
    "print(f\"Direct Sum method : {sum(myarr)}\")\n",
    "res = 0\n",
    "for i in range (0,len(myarr)):\n",
    "    res += myarr[i]\n",
    "\n",
    "print(f\"For loop Method : {res} \")"
   ]
  },
  {
   "cell_type": "markdown",
   "metadata": {},
   "source": [
    "### Finding Max And min elements in list"
   ]
  },
  {
   "cell_type": "code",
   "execution_count": 48,
   "metadata": {},
   "outputs": [
    {
     "name": "stdout",
     "output_type": "stream",
     "text": [
      "Iterative Maximum = 100 \n",
      "Iterative mini  =  10\n",
      "function Maximum : 100 \n",
      "Function Mini : 10\n"
     ]
    }
   ],
   "source": [
    "lst = [10,20,30,40,50,80,100]\n",
    "\n",
    "## iteration method \n",
    "Maxi = lst[0]\n",
    "\n",
    "for i in range (1,len(lst)):\n",
    "    if(lst[i] > Maxi):\n",
    "        Maxi = lst[i]\n",
    "\n",
    "Mini = lst[len(lst) - 1]\n",
    "for j in range(len(lst)):\n",
    "    if(lst[j] < Mini):\n",
    "        Mini = lst[j]\n",
    "print(f\"Iterative Maximum = {Maxi} \\nIterative mini  =  {Mini}\")\n",
    "\n",
    "## Function Method \n",
    "Maxi = max(lst)\n",
    "Mini = min(lst)\n",
    "\n",
    "print(f\"function Maximum : {Maxi} \\nFunction Mini : {Mini}\")"
   ]
  }
 ],
 "metadata": {
  "kernelspec": {
   "display_name": "Python 3",
   "language": "python",
   "name": "python3"
  },
  "language_info": {
   "codemirror_mode": {
    "name": "ipython",
    "version": 3
   },
   "file_extension": ".py",
   "mimetype": "text/x-python",
   "name": "python",
   "nbconvert_exporter": "python",
   "pygments_lexer": "ipython3",
   "version": "3.12.4"
  }
 },
 "nbformat": 4,
 "nbformat_minor": 2
}
