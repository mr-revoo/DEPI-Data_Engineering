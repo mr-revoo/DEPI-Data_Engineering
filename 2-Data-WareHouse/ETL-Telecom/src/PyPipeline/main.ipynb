{
 "cells": [
  {
   "cell_type": "code",
   "execution_count": 6,
   "metadata": {},
   "outputs": [],
   "source": [
    "import pandas as pd \n",
    "import pyodbc as odbc\n",
    "import numpy as np"
   ]
  },
  {
   "cell_type": "code",
   "execution_count": 3,
   "metadata": {},
   "outputs": [],
   "source": [
    "df = pd.read_csv('/home/revoo/My_work/DEPI-Data_Engineering/2-Data-WareHouse/ETL-Telecom/source_files/batch 0/01_clean_data.csv')"
   ]
  },
  {
   "cell_type": "code",
   "execution_count": 27,
   "metadata": {},
   "outputs": [
    {
     "name": "stdout",
     "output_type": "stream",
     "text": [
      "(1, 123456, '123456789', 1001, '12345678', '123456', '12345678901234', 101, 202, 'EV', datetime.datetime(2024, 8, 30, 14, 0), 1)\n",
      "(2, 123457, '987654321', 1002, '87654321', '654321', '09876543210987', 102, 203, 'ER', datetime.datetime(2024, 8, 30, 15, 0), 2)\n",
      "(3, 123458, '123456788', 1003, '23456789', '345678', '12345678901234', 103, 204, 'EV', datetime.datetime(2024, 8, 30, 16, 0), 3)\n"
     ]
    }
   ],
   "source": [
    "drivername = 'ODBC Driver 17 for SQL Server'\n",
    "database = 'ETL_TELECOM'# Printing the connection object (for testing purposes)\n",
    "servername = 'refaat'\n",
    "username = 'sa'\n",
    "password = 'Refaat@2004'\n",
    "\n",
    "connection_string = f'DRIVER={{{drivername}}};SERVER={servername};DATABASE={database};UID={username};PWD={password}'\n",
    "\n",
    "connection = odbc.connect(connection_string)\n",
    "cursor = connection.cursor()\n",
    "cursor.execute('SELECT * FROM dbo.fact_transaction')\n",
    "results = cursor.fetchall()\n",
    "for row in results:\n",
    "    print(row)\n"
   ]
  }
 ],
 "metadata": {
  "kernelspec": {
   "display_name": "Python 3",
   "language": "python",
   "name": "python3"
  },
  "language_info": {
   "codemirror_mode": {
    "name": "ipython",
    "version": 3
   },
   "file_extension": ".py",
   "mimetype": "text/x-python",
   "name": "python",
   "nbconvert_exporter": "python",
   "pygments_lexer": "ipython3",
   "version": "3.12.4"
  }
 },
 "nbformat": 4,
 "nbformat_minor": 2
}
